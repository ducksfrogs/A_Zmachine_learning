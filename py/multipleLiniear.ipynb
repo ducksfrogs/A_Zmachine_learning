{
 "cells": [
  {
   "cell_type": "code",
   "execution_count": 1,
   "metadata": {},
   "outputs": [],
   "source": [
    "import numpy as np\n",
    "import pandas as pd \n",
    "import matplotlib.pyplot as plt"
   ]
  },
  {
   "cell_type": "code",
   "execution_count": 2,
   "metadata": {},
   "outputs": [],
   "source": [
    "dataset = pd.read_csv(\"../data/50_Startups.csv\")"
   ]
  },
  {
   "cell_type": "code",
   "execution_count": 3,
   "metadata": {},
   "outputs": [],
   "source": [
    "X = dataset.iloc[:, :-1].values\n",
    "y = dataset.iloc[:, 4].values"
   ]
  },
  {
   "cell_type": "code",
   "execution_count": 4,
   "metadata": {},
   "outputs": [],
   "source": [
    "from sklearn.model_selection import train_test_split"
   ]
  },
  {
   "cell_type": "code",
   "execution_count": 5,
   "metadata": {},
   "outputs": [
    {
     "data": {
      "text/html": [
       "<div>\n",
       "<style scoped>\n",
       "    .dataframe tbody tr th:only-of-type {\n",
       "        vertical-align: middle;\n",
       "    }\n",
       "\n",
       "    .dataframe tbody tr th {\n",
       "        vertical-align: top;\n",
       "    }\n",
       "\n",
       "    .dataframe thead th {\n",
       "        text-align: right;\n",
       "    }\n",
       "</style>\n",
       "<table border=\"1\" class=\"dataframe\">\n",
       "  <thead>\n",
       "    <tr style=\"text-align: right;\">\n",
       "      <th></th>\n",
       "      <th>R&amp;D Spend</th>\n",
       "      <th>Administration</th>\n",
       "      <th>Marketing Spend</th>\n",
       "      <th>State</th>\n",
       "      <th>Profit</th>\n",
       "    </tr>\n",
       "  </thead>\n",
       "  <tbody>\n",
       "    <tr>\n",
       "      <th>0</th>\n",
       "      <td>165349.20</td>\n",
       "      <td>136897.80</td>\n",
       "      <td>471784.10</td>\n",
       "      <td>New York</td>\n",
       "      <td>192261.83</td>\n",
       "    </tr>\n",
       "    <tr>\n",
       "      <th>1</th>\n",
       "      <td>162597.70</td>\n",
       "      <td>151377.59</td>\n",
       "      <td>443898.53</td>\n",
       "      <td>California</td>\n",
       "      <td>191792.06</td>\n",
       "    </tr>\n",
       "    <tr>\n",
       "      <th>2</th>\n",
       "      <td>153441.51</td>\n",
       "      <td>101145.55</td>\n",
       "      <td>407934.54</td>\n",
       "      <td>Florida</td>\n",
       "      <td>191050.39</td>\n",
       "    </tr>\n",
       "    <tr>\n",
       "      <th>3</th>\n",
       "      <td>144372.41</td>\n",
       "      <td>118671.85</td>\n",
       "      <td>383199.62</td>\n",
       "      <td>New York</td>\n",
       "      <td>182901.99</td>\n",
       "    </tr>\n",
       "    <tr>\n",
       "      <th>4</th>\n",
       "      <td>142107.34</td>\n",
       "      <td>91391.77</td>\n",
       "      <td>366168.42</td>\n",
       "      <td>Florida</td>\n",
       "      <td>166187.94</td>\n",
       "    </tr>\n",
       "  </tbody>\n",
       "</table>\n",
       "</div>"
      ],
      "text/plain": [
       "   R&D Spend  Administration  Marketing Spend       State     Profit\n",
       "0  165349.20       136897.80        471784.10    New York  192261.83\n",
       "1  162597.70       151377.59        443898.53  California  191792.06\n",
       "2  153441.51       101145.55        407934.54     Florida  191050.39\n",
       "3  144372.41       118671.85        383199.62    New York  182901.99\n",
       "4  142107.34        91391.77        366168.42     Florida  166187.94"
      ]
     },
     "execution_count": 5,
     "metadata": {},
     "output_type": "execute_result"
    }
   ],
   "source": [
    "dataset.head()"
   ]
  },
  {
   "cell_type": "code",
   "execution_count": 6,
   "metadata": {},
   "outputs": [],
   "source": [
    "from sklearn.preprocessing import LabelEncoder, OneHotEncoder"
   ]
  },
  {
   "cell_type": "code",
   "execution_count": 7,
   "metadata": {},
   "outputs": [],
   "source": [
    "labelencorder_X = LabelEncoder()"
   ]
  },
  {
   "cell_type": "code",
   "execution_count": 33,
   "metadata": {},
   "outputs": [],
   "source": [
    "X[:, 3] = labelencorder_X.fit_transform(X[:,3])"
   ]
  },
  {
   "cell_type": "code",
   "execution_count": 36,
   "metadata": {},
   "outputs": [],
   "source": [
    "onehotencorder = OneHotEncoder(categorical_features=[3])"
   ]
  },
  {
   "cell_type": "code",
   "execution_count": 20,
   "metadata": {},
   "outputs": [],
   "source": []
  },
  {
   "cell_type": "code",
   "execution_count": 37,
   "metadata": {},
   "outputs": [
    {
     "name": "stderr",
     "output_type": "stream",
     "text": [
      "/home/ma/.bin/anaconda3/lib/python3.7/site-packages/sklearn/preprocessing/_encoders.py:371: FutureWarning: The handling of integer data will change in version 0.22. Currently, the categories are determined based on the range [0, max(values)], while in the future they will be determined based on the unique values.\n",
      "If you want the future behaviour and silence this warning, you can specify \"categories='auto'\".\n",
      "In case you used a LabelEncoder before this OneHotEncoder to convert the categories to integers, then you can now use the OneHotEncoder directly.\n",
      "  warnings.warn(msg, FutureWarning)\n"
     ]
    }
   ],
   "source": [
    "X = onehotencorder.fit_transform(X).toarray()"
   ]
  },
  {
   "cell_type": "code",
   "execution_count": 40,
   "metadata": {},
   "outputs": [],
   "source": [
    "#avoiding Dummy \n",
    "X = X[:, 1:]"
   ]
  },
  {
   "cell_type": "code",
   "execution_count": 41,
   "metadata": {},
   "outputs": [
    {
     "data": {
      "text/plain": [
       "array([[0.0000000e+00, 1.0000000e+00, 1.6534920e+05, 1.3689780e+05,\n",
       "        4.7178410e+05],\n",
       "       [0.0000000e+00, 0.0000000e+00, 1.6259770e+05, 1.5137759e+05,\n",
       "        4.4389853e+05],\n",
       "       [1.0000000e+00, 0.0000000e+00, 1.5344151e+05, 1.0114555e+05,\n",
       "        4.0793454e+05],\n",
       "       [0.0000000e+00, 1.0000000e+00, 1.4437241e+05, 1.1867185e+05,\n",
       "        3.8319962e+05],\n",
       "       [1.0000000e+00, 0.0000000e+00, 1.4210734e+05, 9.1391770e+04,\n",
       "        3.6616842e+05],\n",
       "       [0.0000000e+00, 1.0000000e+00, 1.3187690e+05, 9.9814710e+04,\n",
       "        3.6286136e+05],\n",
       "       [0.0000000e+00, 0.0000000e+00, 1.3461546e+05, 1.4719887e+05,\n",
       "        1.2771682e+05],\n",
       "       [1.0000000e+00, 0.0000000e+00, 1.3029813e+05, 1.4553006e+05,\n",
       "        3.2387668e+05],\n",
       "       [0.0000000e+00, 1.0000000e+00, 1.2054252e+05, 1.4871895e+05,\n",
       "        3.1161329e+05],\n",
       "       [0.0000000e+00, 0.0000000e+00, 1.2333488e+05, 1.0867917e+05,\n",
       "        3.0498162e+05],\n",
       "       [1.0000000e+00, 0.0000000e+00, 1.0191308e+05, 1.1059411e+05,\n",
       "        2.2916095e+05],\n",
       "       [0.0000000e+00, 0.0000000e+00, 1.0067196e+05, 9.1790610e+04,\n",
       "        2.4974455e+05],\n",
       "       [1.0000000e+00, 0.0000000e+00, 9.3863750e+04, 1.2732038e+05,\n",
       "        2.4983944e+05],\n",
       "       [0.0000000e+00, 0.0000000e+00, 9.1992390e+04, 1.3549507e+05,\n",
       "        2.5266493e+05],\n",
       "       [1.0000000e+00, 0.0000000e+00, 1.1994324e+05, 1.5654742e+05,\n",
       "        2.5651292e+05],\n",
       "       [0.0000000e+00, 1.0000000e+00, 1.1452361e+05, 1.2261684e+05,\n",
       "        2.6177623e+05],\n",
       "       [0.0000000e+00, 0.0000000e+00, 7.8013110e+04, 1.2159755e+05,\n",
       "        2.6434606e+05],\n",
       "       [0.0000000e+00, 1.0000000e+00, 9.4657160e+04, 1.4507758e+05,\n",
       "        2.8257431e+05],\n",
       "       [1.0000000e+00, 0.0000000e+00, 9.1749160e+04, 1.1417579e+05,\n",
       "        2.9491957e+05],\n",
       "       [0.0000000e+00, 1.0000000e+00, 8.6419700e+04, 1.5351411e+05,\n",
       "        0.0000000e+00],\n",
       "       [0.0000000e+00, 0.0000000e+00, 7.6253860e+04, 1.1386730e+05,\n",
       "        2.9866447e+05],\n",
       "       [0.0000000e+00, 1.0000000e+00, 7.8389470e+04, 1.5377343e+05,\n",
       "        2.9973729e+05],\n",
       "       [1.0000000e+00, 0.0000000e+00, 7.3994560e+04, 1.2278275e+05,\n",
       "        3.0331926e+05],\n",
       "       [1.0000000e+00, 0.0000000e+00, 6.7532530e+04, 1.0575103e+05,\n",
       "        3.0476873e+05],\n",
       "       [0.0000000e+00, 1.0000000e+00, 7.7044010e+04, 9.9281340e+04,\n",
       "        1.4057481e+05],\n",
       "       [0.0000000e+00, 0.0000000e+00, 6.4664710e+04, 1.3955316e+05,\n",
       "        1.3796262e+05],\n",
       "       [1.0000000e+00, 0.0000000e+00, 7.5328870e+04, 1.4413598e+05,\n",
       "        1.3405007e+05],\n",
       "       [0.0000000e+00, 1.0000000e+00, 7.2107600e+04, 1.2786455e+05,\n",
       "        3.5318381e+05],\n",
       "       [1.0000000e+00, 0.0000000e+00, 6.6051520e+04, 1.8264556e+05,\n",
       "        1.1814820e+05],\n",
       "       [0.0000000e+00, 1.0000000e+00, 6.5605480e+04, 1.5303206e+05,\n",
       "        1.0713838e+05],\n",
       "       [1.0000000e+00, 0.0000000e+00, 6.1994480e+04, 1.1564128e+05,\n",
       "        9.1131240e+04],\n",
       "       [0.0000000e+00, 1.0000000e+00, 6.1136380e+04, 1.5270192e+05,\n",
       "        8.8218230e+04],\n",
       "       [0.0000000e+00, 0.0000000e+00, 6.3408860e+04, 1.2921961e+05,\n",
       "        4.6085250e+04],\n",
       "       [1.0000000e+00, 0.0000000e+00, 5.5493950e+04, 1.0305749e+05,\n",
       "        2.1463481e+05],\n",
       "       [0.0000000e+00, 0.0000000e+00, 4.6426070e+04, 1.5769392e+05,\n",
       "        2.1079767e+05],\n",
       "       [0.0000000e+00, 1.0000000e+00, 4.6014020e+04, 8.5047440e+04,\n",
       "        2.0551764e+05],\n",
       "       [1.0000000e+00, 0.0000000e+00, 2.8663760e+04, 1.2705621e+05,\n",
       "        2.0112682e+05],\n",
       "       [0.0000000e+00, 0.0000000e+00, 4.4069950e+04, 5.1283140e+04,\n",
       "        1.9702942e+05],\n",
       "       [0.0000000e+00, 1.0000000e+00, 2.0229590e+04, 6.5947930e+04,\n",
       "        1.8526510e+05],\n",
       "       [0.0000000e+00, 0.0000000e+00, 3.8558510e+04, 8.2982090e+04,\n",
       "        1.7499930e+05],\n",
       "       [0.0000000e+00, 0.0000000e+00, 2.8754330e+04, 1.1854605e+05,\n",
       "        1.7279567e+05],\n",
       "       [1.0000000e+00, 0.0000000e+00, 2.7892920e+04, 8.4710770e+04,\n",
       "        1.6447071e+05],\n",
       "       [0.0000000e+00, 0.0000000e+00, 2.3640930e+04, 9.6189630e+04,\n",
       "        1.4800111e+05],\n",
       "       [0.0000000e+00, 1.0000000e+00, 1.5505730e+04, 1.2738230e+05,\n",
       "        3.5534170e+04],\n",
       "       [0.0000000e+00, 0.0000000e+00, 2.2177740e+04, 1.5480614e+05,\n",
       "        2.8334720e+04],\n",
       "       [0.0000000e+00, 1.0000000e+00, 1.0002300e+03, 1.2415304e+05,\n",
       "        1.9039300e+03],\n",
       "       [1.0000000e+00, 0.0000000e+00, 1.3154600e+03, 1.1581621e+05,\n",
       "        2.9711446e+05],\n",
       "       [0.0000000e+00, 0.0000000e+00, 0.0000000e+00, 1.3542692e+05,\n",
       "        0.0000000e+00],\n",
       "       [0.0000000e+00, 1.0000000e+00, 5.4205000e+02, 5.1743150e+04,\n",
       "        0.0000000e+00],\n",
       "       [0.0000000e+00, 0.0000000e+00, 0.0000000e+00, 1.1698380e+05,\n",
       "        4.5173060e+04]])"
      ]
     },
     "execution_count": 41,
     "metadata": {},
     "output_type": "execute_result"
    }
   ],
   "source": [
    "X"
   ]
  },
  {
   "cell_type": "code",
   "execution_count": 42,
   "metadata": {},
   "outputs": [],
   "source": [
    "\n",
    "X_train, X_test, y_train, y_test = train_test_split(X, y, test_size=0.2,\n",
    "                                                    random_state =0)"
   ]
  },
  {
   "cell_type": "code",
   "execution_count": 44,
   "metadata": {},
   "outputs": [
    {
     "data": {
      "text/plain": [
       "array([ 96778.92,  96479.51, 105733.54,  96712.8 , 124266.9 , 155752.6 ,\n",
       "       132602.65,  64926.08,  35673.41, 101004.64, 129917.04,  99937.59,\n",
       "        97427.84, 126992.93,  71498.49, 118474.03,  69758.98, 152211.77,\n",
       "       134307.35, 107404.34, 156991.12, 125370.37,  78239.91,  14681.4 ,\n",
       "       191792.06, 141585.52,  89949.14, 108552.04, 156122.51, 108733.99,\n",
       "        90708.19, 111313.02, 122776.86, 149759.96,  81005.76,  49490.75,\n",
       "       182901.99, 192261.83,  42559.73,  65200.33])"
      ]
     },
     "execution_count": 44,
     "metadata": {},
     "output_type": "execute_result"
    }
   ],
   "source": [
    "y_train"
   ]
  },
  {
   "cell_type": "code",
   "execution_count": 45,
   "metadata": {},
   "outputs": [],
   "source": [
    "from sklearn.linear_model import LinearRegression"
   ]
  },
  {
   "cell_type": "code",
   "execution_count": 46,
   "metadata": {},
   "outputs": [],
   "source": [
    "regressor = LinearRegression()"
   ]
  },
  {
   "cell_type": "code",
   "execution_count": 47,
   "metadata": {},
   "outputs": [
    {
     "data": {
      "text/plain": [
       "LinearRegression(copy_X=True, fit_intercept=True, n_jobs=None,\n",
       "         normalize=False)"
      ]
     },
     "execution_count": 47,
     "metadata": {},
     "output_type": "execute_result"
    }
   ],
   "source": [
    "regressor.fit(X_train, y_train)"
   ]
  },
  {
   "cell_type": "code",
   "execution_count": 48,
   "metadata": {},
   "outputs": [],
   "source": [
    "y_pred = regressor.predict(X_test)"
   ]
  },
  {
   "cell_type": "code",
   "execution_count": 49,
   "metadata": {},
   "outputs": [
    {
     "data": {
      "text/plain": [
       "array([103015.20159795, 132582.27760817, 132447.73845176,  71976.09851257,\n",
       "       178537.48221058, 116161.24230165,  67851.69209675,  98791.73374686,\n",
       "       113969.43533013, 167921.06569553])"
      ]
     },
     "execution_count": 49,
     "metadata": {},
     "output_type": "execute_result"
    }
   ],
   "source": [
    "y_pred"
   ]
  },
  {
   "cell_type": "code",
   "execution_count": 50,
   "metadata": {},
   "outputs": [
    {
     "data": {
      "text/plain": [
       "array([103282.38, 144259.4 , 146121.95,  77798.83, 191050.39, 105008.31,\n",
       "        81229.06,  97483.56, 110352.25, 166187.94])"
      ]
     },
     "execution_count": 50,
     "metadata": {},
     "output_type": "execute_result"
    }
   ],
   "source": [
    "y_test"
   ]
  },
  {
   "cell_type": "code",
   "execution_count": null,
   "metadata": {},
   "outputs": [],
   "source": []
  }
 ],
 "metadata": {
  "kernelspec": {
   "display_name": "Python 3",
   "language": "python",
   "name": "python3"
  },
  "language_info": {
   "codemirror_mode": {
    "name": "ipython",
    "version": 3
   },
   "file_extension": ".py",
   "mimetype": "text/x-python",
   "name": "python",
   "nbconvert_exporter": "python",
   "pygments_lexer": "ipython3",
   "version": "3.7.3"
  }
 },
 "nbformat": 4,
 "nbformat_minor": 2
}
